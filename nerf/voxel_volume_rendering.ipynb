{
 "cells": [
  {
   "cell_type": "code",
   "execution_count": 1,
   "metadata": {},
   "outputs": [
    {
     "name": "stdout",
     "output_type": "stream",
     "text": [
      "Jupyter environment detected. Enabling Open3D WebVisualizer.\n",
      "[Open3D INFO] WebRTC GUI backend enabled.\n",
      "[Open3D INFO] WebRTCWindowSystem: HTTP handshake server disabled.\n"
     ]
    }
   ],
   "source": [
    "from pathlib import Path\n",
    "import json\n",
    "import os\n",
    "\n",
    "import numpy as np\n",
    "import open3d as o3d\n",
    "import cv2\n",
    "from einops import repeat, rearrange\n",
    "import torch\n",
    "\n",
    "from viz_utils import to_pcd, to_lines, to_mesh, viz_frustum, spherical_viz, create_octant_planes\n",
    "from camera import fovx2intrinsic, get_spiral_poses, get_rays\n",
    "from graphics import (\n",
    "    generate_coarse_samples, generate_fine_samples, \n",
    "    volume_render, hierarchical_volume_render, \n",
    "    rays2image\n",
    ")\n",
    "\n",
    "\n",
    "__author__ = \"__Girish_Hegde__\""
   ]
  },
  {
   "cell_type": "code",
   "execution_count": 11,
   "metadata": {},
   "outputs": [
    {
     "name": "stdout",
     "output_type": "stream",
     "text": [
      "voxels.shape = (8527, 3), grid.sum() = 8527, (xmax, ymax, zmax) = (50, 39, 50), centroid = array([21.40096165, 22.12560103, 19.39286971])\n"
     ]
    }
   ],
   "source": [
    "bunny_file = './data/bunny_voxels.npy'\n",
    "\n",
    "if Path(bunny_file).is_file():\n",
    "    voxels = np.load(bunny_file)\n",
    "else:\n",
    "    print('This may take 2 to 5 minutes ...')\n",
    "    Path(bunny_file).parent.mkdir(exist_ok=True, parents=True)\n",
    "    bunny = o3d.data.BunnyMesh()\n",
    "    mesh = o3d.io.read_triangle_mesh(bunny.path)\n",
    "    mesh.compute_vertex_normals()\n",
    "    mesh.scale(1 / np.max(mesh.get_max_bound() - mesh.get_min_bound()), center=mesh.get_center())\n",
    "    voxel_grid = o3d.geometry.VoxelGrid.create_from_triangle_mesh(mesh, voxel_size=0.02)\n",
    "    voxels = voxel_grid.get_voxels()\n",
    "    voxels = np.array([vx.grid_index for vx in voxels]) - 1\n",
    "    np.save(bunny_file, voxels)\n",
    "\n",
    "voxels = voxels[:, [0, 2, 1]]\n",
    "# voxels bounds\n",
    "xmax, ymax, zmax = voxels.max(0) + 1\n",
    "tmax = max(xmax, ymax, zmax)\n",
    "centroid = np.mean(voxels, 0)\n",
    "\n",
    "# get boolen grid from voxel positions\n",
    "grid = np.zeros((tmax, tmax, tmax), dtype=bool)\n",
    "grid[voxels[:, 0], voxels[:, 1], voxels[:, 2]] = True\n",
    "\n",
    "# visualization\n",
    "points = o3d.utility.Vector3dVector(voxels.astype(np.float64))\n",
    "voxel_pcd = o3d.geometry.PointCloud(points)\n",
    "voxel_pcd.paint_uniform_color([1., 1, 0])\n",
    "octants = create_octant_planes(tmax)\n",
    "o3d.visualization.draw_geometries([voxel_pcd, octants], 'voxels', mesh_show_back_face=True)\n",
    "\n",
    "print(f'{voxels.shape = }, {grid.sum() = }, {(xmax, ymax, zmax) = }, {centroid = }')\n"
   ]
  },
  {
   "cell_type": "code",
   "execution_count": 13,
   "metadata": {},
   "outputs": [],
   "source": [
    "# ==========================================\n",
    "# get camera intrinsics and spherical poses\n",
    "# ==========================================\n",
    "h, w = 100, 200\n",
    "nviews, radius, vertical_offset = 20, 75, 10\n",
    "up = torch.tensor([0, 1, 0.])\n",
    "\n",
    "K = fovx2intrinsic(0.75, h, w)\n",
    "view_mats = get_spiral_poses(\n",
    "    torch.FloatTensor(centroid), nviews, radius, \n",
    "    (vertical_offset, vertical_offset), 1\n",
    ")\n",
    "sperical_scene = spherical_viz(view_mats, centroid, [octants, voxel_pcd]);"
   ]
  },
  {
   "cell_type": "code",
   "execution_count": 34,
   "metadata": {},
   "outputs": [],
   "source": [
    "# ===============\n",
    "# get grid rays\n",
    "# ===============\n",
    "cam_id = 3\n",
    "\n",
    "origins, directions = get_rays(h, w, K, view_mats[cam_id])\n",
    "grid_pts = origins + directions*100\n",
    "frustum_viz = viz_frustum(grid_pts, origins, face_clr=(0, 1, 1), line_clr=(0, 0, 0))\n",
    "spherical_viz(view_mats, centroid, sperical_scene + list(frustum_viz));\n",
    "\n",
    "# flines = to_lines(\n",
    "#     np.vstack([grid_pts, starts]),\n",
    "#     rearrange([np.arange(n), n + np.arange(n)], 't n -> n t'),\n",
    "#     [0, 0, 0],\n",
    "# )"
   ]
  },
  {
   "cell_type": "code",
   "execution_count": 32,
   "metadata": {},
   "outputs": [],
   "source": [
    "# =======================================================\n",
    "# function get points on ray and voxel grid intersection\n",
    "# =======================================================\n",
    "\n",
    "def intersect_rays(origins, directions, samples, grid):\n",
    "    densities = torch.zeros_like(samples)\n",
    "    positions = origins[:, None, :] + directions[:, None, :]*samples[:, :, None]\n",
    "    positions = torch.round(positions).long()\n",
    "    xlim, ylim, zlim = grid.shape\n",
    "    valid = (\n",
    "        (\n",
    "              (positions[..., 0] < xlim) \n",
    "            & (positions[..., 1] < ylim) \n",
    "            & (positions[..., 2] < zlim)\n",
    "        ) \n",
    "        & (positions > 0).all(-1)\n",
    "    )  # [b, n, 3]\n",
    "    query = positions[valid]  # [k, 3]\n",
    "    intersections = grid[query[:, 0], query[:, 1], query[:, 2]]\n",
    "    xpts = query[intersections]\n",
    "    # xpcd = to_pcd(xpts, [0, 1, 1], viz=True, name='intersections')\n",
    "\n",
    "    temp = torch.zeros(len(intersections))\n",
    "    temp[intersections] = 1\n",
    "    densities[valid] = temp\n",
    "    colors = torch.zeros((*densities.shape, 3))\n",
    "    set_r = torch.zeros((len(intersections), 3))\n",
    "    set_r[:, 0] = intersections\n",
    "    colors[valid] = set_r\n",
    "\n",
    "    return densities, colors, xpts"
   ]
  },
  {
   "cell_type": "code",
   "execution_count": 35,
   "metadata": {},
   "outputs": [
    {
     "name": "stdout",
     "output_type": "stream",
     "text": [
      "coarse_samples.shape = torch.Size([20000, 200])\n"
     ]
    },
    {
     "ename": "",
     "evalue": "",
     "output_type": "error",
     "traceback": [
      "\u001b[1;31mCanceled future for execute_request message before replies were done"
     ]
    },
    {
     "ename": "",
     "evalue": "",
     "output_type": "error",
     "traceback": [
      "\u001b[1;31mThe Kernel crashed while executing code in the the current cell or a previous cell. Please review the code in the cell(s) to identify a possible cause of the failure. Click <a href='https://aka.ms/vscodeJupyterKernelCrash'>here</a> for more info. View Jupyter <a href='command:jupyter.viewOutput'>log</a> for further details."
     ]
    }
   ],
   "source": [
    "# ===============================================\n",
    "# get coarse samples and coarse volume rendering\n",
    "# ===============================================\n",
    "Nc = 200  # No. of coarse samples\n",
    "Nf = 32  # No. of fine samples\n",
    "min_depth, max_depth = 0, 100\n",
    "\n",
    "coarse_samples, coarse_distances, bin_starts, bin_size = generate_coarse_samples(n, Nc, min_depth, max_depth)\n",
    "print(f'{coarse_samples.shape = }')\n",
    "\n",
    "\n",
    "densities_c, colors_c, xpts = intersect_rays(origins, directions, coarse_samples, torch.BoolTensor(grid))\n",
    "args = list(map(torch.FloatTensor, (coarse_samples, coarse_distances, densities_c, colors_c))) + [max_depth]\n",
    "coarse_color, pdf = volume_render(*args)\n",
    "print(f'{coarse_color.shape=}')\n"
   ]
  },
  {
   "cell_type": "code",
   "execution_count": null,
   "metadata": {},
   "outputs": [],
   "source": [
    "# ===================================================\n",
    "# get fine samples and hierarchical volume rendering\n",
    "# ===================================================\n",
    "fine_samples = generate_fine_samples(n, Nf, bin_size, bin_starts, pdf + 1e-6)\n",
    "densities_f, colors_f, xptsf = intersect_rays(origins[cam_id], directions[cam_id], fine_samples, torch.BoolTensor(grid))\n",
    "\n",
    "args = list(map(torch.FloatTensor, (\n",
    "        coarse_samples, densities_c, colors_c,\n",
    "        fine_samples, densities_f, colors_f\n",
    "    ))\n",
    ") + [max_depth]\n",
    "\n",
    "ray_color, ray_pdf, (samples, distances, densities, colors) = hierarchical_volume_render(*args)\n",
    "print(f'{ray_color.shape=}')"
   ]
  },
  {
   "cell_type": "code",
   "execution_count": null,
   "metadata": {},
   "outputs": [],
   "source": [
    "# ===============================\n",
    "# volume rendering visualization\n",
    "# ===============================\n",
    "rays2image(coarse_color, h, w, stride, scale=4, bgr=True, show=True, filename=None);\n",
    "rays2image(ray_color, h, w, stride, scale=4, bgr=True, show=True, filename=None);"
   ]
  },
  {
   "cell_type": "code",
   "execution_count": null,
   "metadata": {},
   "outputs": [],
   "source": [
    "# ===============================================\n",
    "# intersections and fine sampling visualizations\n",
    "# ===============================================\n",
    "xpcd = to_pcd(xpts, [0, 1, 1], viz=False)\n",
    "n = origins.shape[1]\n",
    "line_clrs = np.zeros((n, 3))\n",
    "# line_clrs[ray_id] = [1, 0, 0]\n",
    "grid_pts, starts = origins[cam_id] + directions[cam_id]*100, origins[cam_id]\n",
    "flines = to_lines(\n",
    "    np.vstack([grid_pts, starts]),\n",
    "    rearrange([np.arange(n), n + np.arange(n)], 't n -> n t'),\n",
    "    line_clrs,\n",
    ")\n",
    "\n",
    "positions = origins[cam_id][:, None, :] + directions[cam_id][:, None, :]*fine_samples.numpy()[:, :, None]\n",
    "finepcd = to_pcd(positions.reshape(-1, 3), [1, 0.3, 0], viz=True, name='fine samples')\n",
    "cam_ray_vizs = [flines, ]\n",
    "spherical_viz(centroid, eyes, k, j, i, sperical_scene + cam_ray_vizs + [xpcd, ]);"
   ]
  },
  {
   "cell_type": "code",
   "execution_count": null,
   "metadata": {},
   "outputs": [],
   "source": [
    "# ============================\n",
    "# multi-view volume rendering \n",
    "# ============================\n",
    "\n",
    "Nc = 100  # No. of coarse samples\n",
    "Nf = 100  # No. of fine samples\n",
    "min_depth, max_depth = 0, 100\n",
    "\n",
    "outdir = Path(bunny_file).parent/'bunny_renderings/spherical_views'    \n",
    "for cam_id in range(nviews):\n",
    "    print(f'rendering {cam_id + 1}/{nviews} view ...')\n",
    "    coarse_samples, coarse_distances, bin_starts, bin_size = generate_coarse_samples(n, Nc, min_depth, max_depth)\n",
    "\n",
    "    densities_c, colors_c, xpts = intersect_rays(origins[cam_id], directions[cam_id], coarse_samples, torch.BoolTensor(grid))\n",
    "    args = list(map(torch.FloatTensor, (coarse_samples, coarse_distances, densities_c, colors_c))) + [max_depth]\n",
    "    coarse_color, pdf = volume_render(*args)\n",
    "\n",
    "    fine_samples = generate_fine_samples(n, Nf, bin_size, bin_starts, pdf + 1e-6)\n",
    "    densities_f, colors_f, xptsf = intersect_rays(origins[cam_id], directions[cam_id], fine_samples, torch.BoolTensor(grid))\n",
    "\n",
    "    args = list(map(torch.FloatTensor, (\n",
    "            coarse_samples, densities_c, colors_c,\n",
    "            fine_samples, densities_f, colors_f\n",
    "        ))\n",
    "    ) + [max_depth]\n",
    "\n",
    "    ray_color, ray_pdf, (samples, distances, densities, colors) = hierarchical_volume_render(*args)\n",
    "    ray_color = ray_color.numpy()\n",
    "\n",
    "    rays2image(coarse_color, h, w, stride, scale=4, bgr=True, show=False, filename=str(outdir/f'coarse_{cam_id}.png'))\n",
    "    rays2image(ray_color, h, w, stride, scale=4, bgr=True, show=False, filename=str(outdir/f'{cam_id}.png'))"
   ]
  },
  {
   "cell_type": "code",
   "execution_count": null,
   "metadata": {},
   "outputs": [],
   "source": []
  }
 ],
 "metadata": {
  "kernelspec": {
   "display_name": "base",
   "language": "python",
   "name": "python3"
  },
  "language_info": {
   "codemirror_mode": {
    "name": "ipython",
    "version": 3
   },
   "file_extension": ".py",
   "mimetype": "text/x-python",
   "name": "python",
   "nbconvert_exporter": "python",
   "pygments_lexer": "ipython3",
   "version": "3.9.13"
  },
  "orig_nbformat": 4,
  "vscode": {
   "interpreter": {
    "hash": "382950e68cd049308e767dcd276a08c7c5794b6dfb27e475177979fe7af4607b"
   }
  }
 },
 "nbformat": 4,
 "nbformat_minor": 2
}
